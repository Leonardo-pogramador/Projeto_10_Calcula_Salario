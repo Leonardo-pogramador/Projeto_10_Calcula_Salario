{
 "cells": [
  {
   "cell_type": "markdown",
   "id": "4e9f7f93",
   "metadata": {},
   "source": [
    "### Calcula Salário"
   ]
  },
  {
   "cell_type": "code",
   "execution_count": 5,
   "id": "65ff4d13",
   "metadata": {},
   "outputs": [
    {
     "name": "stdout",
     "output_type": "stream",
     "text": [
      "840\n"
     ]
    }
   ],
   "source": [
    "horas_trabalhadas = int(input(\"Digite quantas horas foram trabalhadas\"))\n",
    "valor_hora = int(input(\"Digite seu valor a hora\"))\n",
    "\n",
    "total = horas_trabalhadas * valor_hora\n",
    "\n",
    "print(total)"
   ]
  }
 ],
 "metadata": {
  "kernelspec": {
   "display_name": "Python 3",
   "language": "python",
   "name": "python3"
  },
  "language_info": {
   "codemirror_mode": {
    "name": "ipython",
    "version": 3
   },
   "file_extension": ".py",
   "mimetype": "text/x-python",
   "name": "python",
   "nbconvert_exporter": "python",
   "pygments_lexer": "ipython3",
   "version": "3.13.2"
  }
 },
 "nbformat": 4,
 "nbformat_minor": 5
}
